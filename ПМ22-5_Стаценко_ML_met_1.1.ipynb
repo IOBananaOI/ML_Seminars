{
  "cells": [
    {
      "cell_type": "code",
      "execution_count": null,
      "metadata": {
        "id": "i1JnMFmN-LUX"
      },
      "outputs": [],
      "source": [
        "import numpy as np\n",
        "import pandas as pd\n",
        "import matplotlib.pyplot as plt"
      ]
    },
    {
      "cell_type": "code",
      "execution_count": null,
      "metadata": {
        "id": "5x5GeDKy-RId"
      },
      "outputs": [],
      "source": [
        "x = pd.read_csv('https://raw.githubusercontent.com/koroteevmv/ML_course/main/ML1.1_sgd/data/x.csv')\n",
        "y = pd.read_csv('https://raw.githubusercontent.com/koroteevmv/ML_course/main/ML1.1_sgd/data/y.csv')"
      ]
    },
    {
      "cell_type": "code",
      "execution_count": null,
      "metadata": {
        "colab": {
          "base_uri": "https://localhost:8080/",
          "height": 206
        },
        "id": "x6-t1Mze-Su_",
        "outputId": "51a79948-0820-43fe-e1e9-d2e1da6d133a"
      },
      "outputs": [
        {
          "data": {
            "text/html": [
              "<div>\n",
              "<style scoped>\n",
              "    .dataframe tbody tr th:only-of-type {\n",
              "        vertical-align: middle;\n",
              "    }\n",
              "\n",
              "    .dataframe tbody tr th {\n",
              "        vertical-align: top;\n",
              "    }\n",
              "\n",
              "    .dataframe thead th {\n",
              "        text-align: right;\n",
              "    }\n",
              "</style>\n",
              "<table border=\"1\" class=\"dataframe\">\n",
              "  <thead>\n",
              "    <tr style=\"text-align: right;\">\n",
              "      <th></th>\n",
              "      <th>Unnamed: 0</th>\n",
              "      <th>0</th>\n",
              "    </tr>\n",
              "  </thead>\n",
              "  <tbody>\n",
              "    <tr>\n",
              "      <th>0</th>\n",
              "      <td>0</td>\n",
              "      <td>1.462108</td>\n",
              "    </tr>\n",
              "    <tr>\n",
              "      <th>1</th>\n",
              "      <td>1</td>\n",
              "      <td>1.133769</td>\n",
              "    </tr>\n",
              "    <tr>\n",
              "      <th>2</th>\n",
              "      <td>2</td>\n",
              "      <td>-2.301539</td>\n",
              "    </tr>\n",
              "    <tr>\n",
              "      <th>3</th>\n",
              "      <td>3</td>\n",
              "      <td>1.744812</td>\n",
              "    </tr>\n",
              "    <tr>\n",
              "      <th>4</th>\n",
              "      <td>4</td>\n",
              "      <td>0.042214</td>\n",
              "    </tr>\n",
              "  </tbody>\n",
              "</table>\n",
              "</div>"
            ],
            "text/plain": [
              "   Unnamed: 0         0\n",
              "0           0  1.462108\n",
              "1           1  1.133769\n",
              "2           2 -2.301539\n",
              "3           3  1.744812\n",
              "4           4  0.042214"
            ]
          },
          "execution_count": 3,
          "metadata": {},
          "output_type": "execute_result"
        }
      ],
      "source": [
        "x.head()"
      ]
    },
    {
      "cell_type": "code",
      "execution_count": null,
      "metadata": {
        "id": "VqN9tjzP-UGQ"
      },
      "outputs": [],
      "source": [
        "x = pd.read_csv('https://raw.githubusercontent.com/koroteevmv/ML_course/main/ML1.1_sgd/data/x.csv', index_col=0)['0']\n",
        "y = pd.read_csv('https://raw.githubusercontent.com/koroteevmv/ML_course/main/ML1.1_sgd/data/y.csv', index_col=0)['0']"
      ]
    },
    {
      "cell_type": "code",
      "execution_count": null,
      "metadata": {
        "colab": {
          "base_uri": "https://localhost:8080/"
        },
        "id": "yfV095BQ-V18",
        "outputId": "93237c12-8737-4cf6-9c1e-de42cbbe7543"
      },
      "outputs": [
        {
          "data": {
            "text/plain": [
              "0    1.462108\n",
              "1    1.133769\n",
              "2   -2.301539\n",
              "3    1.744812\n",
              "4    0.042214\n",
              "Name: 0, dtype: float64"
            ]
          },
          "execution_count": 5,
          "metadata": {},
          "output_type": "execute_result"
        }
      ],
      "source": [
        "x.head()"
      ]
    },
    {
      "cell_type": "code",
      "execution_count": null,
      "metadata": {
        "id": "UDlX6fTJ2B5u",
        "outputId": "882ecf4d-c422-440d-e4b5-be1835439c62"
      },
      "outputs": [
        {
          "data": {
            "text/plain": [
              "0    101.159902\n",
              "1     78.442913\n",
              "2   -159.238195\n",
              "3    120.719533\n",
              "4      2.920673\n",
              "Name: 0, dtype: float64"
            ]
          },
          "execution_count": 32,
          "metadata": {},
          "output_type": "execute_result"
        }
      ],
      "source": [
        "y.head()"
      ]
    },
    {
      "cell_type": "code",
      "execution_count": null,
      "metadata": {
        "colab": {
          "base_uri": "https://localhost:8080/",
          "height": 430
        },
        "id": "Kl0RbVtT-mdz",
        "outputId": "fc90089e-412b-4267-868a-7a47b25bf90b"
      },
      "outputs": [
        {
          "data": {
            "image/png": "[encoded data removed]",
            "text/plain": [
              "<Figure size 640x480 with 1 Axes>"
            ]
          },
          "metadata": {},
          "output_type": "display_data"
        }
      ],
      "source": [
        "plt.figure()\n",
        "plt.scatter(x, y)\n",
        "plt.show()"
      ]
    },
    {
      "cell_type": "code",
      "execution_count": null,
      "metadata": {
        "id": "TBJedEEI-oPI"
      },
      "outputs": [],
      "source": [
        "class Model(object):\n",
        "    \"\"\"Модель парной линейной регрессии\"\"\"\n",
        "    def __init__(self):\n",
        "        self.b0 = 0\n",
        "        self.b1 = 0\n",
        "    def predict(self, X):\n",
        "        return self.b0 + self.b1 * X\n",
        "    def error(self, X, Y):\n",
        "        return sum(((self.predict(X) - Y)**2) / (2 * len(X)))\n",
        "    def fit(self, X, Y, alpha=0.001, accuracy=0.01, max_steps=5 * 5000):\n",
        "        steps, errors = [], []\n",
        "        step = 0\n",
        "        for _ in range(max_steps):\n",
        "            dJ0 = sum(self.predict(X) - Y) /len(X)\n",
        "            dJ1 = sum((self.predict(X) - Y) * X) /len(X)\n",
        "            self.b0 -= alpha * dJ0\n",
        "            self.b1 -= alpha * dJ1\n",
        "            new_err = hyp.error(X, Y)\n",
        "            step += 1\n",
        "            steps.append(step)\n",
        "            errors.append(new_err)\n",
        "        return steps, errors"
      ]
    },
    {
      "cell_type": "code",
      "execution_count": null,
      "metadata": {
        "colab": {
          "base_uri": "https://localhost:8080/"
        },
        "id": "j5ecEYDr-r3U",
        "outputId": "03a78c07-0b24-43f6-c3b1-11c9d3d4134e"
      },
      "outputs": [
        {
          "name": "stdout",
          "output_type": "stream",
          "text": [
            "error after gradient descent: 1.616463343834714e-18\n"
          ]
        }
      ],
      "source": [
        "hyp = Model()\n",
        "steps, errors = hyp.fit(x, y)\n",
        "J = hyp.error(x, y)\n",
        "print(\"error after gradient descent:\", J)"
      ]
    },
    {
      "cell_type": "code",
      "execution_count": null,
      "metadata": {
        "colab": {
          "base_uri": "https://localhost:8080/",
          "height": 430
        },
        "id": "WSwbs06U-tnU",
        "outputId": "42ed718a-ac87-4b87-c5b5-feb5179786a0"
      },
      "outputs": [
        {
          "data": {
            "image/png": "[encoded data removed]",
            "text/plain": [
              "<Figure size 640x480 with 1 Axes>"
            ]
          },
          "metadata": {},
          "output_type": "display_data"
        }
      ],
      "source": [
        "X0 = np.linspace(-3, 2, 100)\n",
        "Y0 = hyp.predict(X0)\n",
        "plt.figure()\n",
        "plt.scatter(x, y)\n",
        "plt.plot(X0, Y0, 'r')\n",
        "plt.show()"
      ]
    },
    {
      "cell_type": "code",
      "execution_count": null,
      "metadata": {
        "colab": {
          "base_uri": "https://localhost:8080/",
          "height": 430
        },
        "id": "W_YkQhwb-wnq",
        "outputId": "7f36559f-adb8-4a27-f711-28f8c21b3ba5"
      },
      "outputs": [
        {
          "data": {
            "image/png": "[encoded data removed]",
            "text/plain": [
              "<Figure size 640x480 with 1 Axes>"
            ]
          },
          "metadata": {},
          "output_type": "display_data"
        }
      ],
      "source": [
        "plt.figure()\n",
        "plt.plot(steps, errors, 'g')\n",
        "plt.show()"
      ]
    },
    {
      "cell_type": "markdown",
      "metadata": {
        "id": "usWtZPh-DKeF"
      },
      "source": [
        "# 1.Проверьте работу модели с разными начальными значениями параметров. Убедитесь, что модель всегда сходится к оптимуму."
      ]
    },
    {
      "cell_type": "code",
      "execution_count": null,
      "metadata": {
        "colab": {
          "base_uri": "https://localhost:8080/"
        },
        "id": "YRL4g2XLGSVG",
        "outputId": "7408c82f-ad5e-4412-abc2-c8de747c0ca3"
      },
      "outputs": [
        {
          "data": {
            "text/plain": [
              "(None, None)"
            ]
          },
          "execution_count": 11,
          "metadata": {},
          "output_type": "execute_result"
        }
      ],
      "source": [
        "arr1, arr2 = np.linspace(0, 100, 30), np.linspace(0, 100, 10)\n",
        "np.random.shuffle(arr1), np.random.shuffle(arr2)"
      ]
    },
    {
      "cell_type": "code",
      "execution_count": null,
      "metadata": {
        "colab": {
          "base_uri": "https://localhost:8080/"
        },
        "id": "8uEkrvDdDQX6",
        "outputId": "0a414847-c4e5-4ba5-9775-d7a2dd10740a"
      },
      "outputs": [
        {
          "name": "stdout",
          "output_type": "stream",
          "text": [
            "b0: 82.75862068965517, b1 66.66666666666666\n",
            "error after gradient descent: 2.163848866093225e-21\n",
            "b0: 27.586206896551722, b1 11.11111111111111\n",
            "error after gradient descent: 1.1389832207184305e-18\n",
            "b0: 93.10344827586206, b1 88.88888888888889\n",
            "error after gradient descent: 1.310770826187363e-19\n",
            "b0: 89.6551724137931, b1 100.0\n",
            "error after gradient descent: 3.206114536949907e-19\n",
            "b0: 79.3103448275862, b1 0.0\n",
            "error after gradient descent: 1.616463343834714e-18\n",
            "b0: 48.275862068965516, b1 55.55555555555556\n",
            "error after gradient descent: 6.277282846714496e-20\n",
            "b0: 96.55172413793103, b1 77.77777777777777\n",
            "error after gradient descent: 2.492048820403462e-20\n",
            "b0: 75.86206896551724, b1 33.33333333333333\n",
            "error after gradient descent: 4.341010916576897e-19\n",
            "b0: 3.4482758620689653, b1 22.22222222222222\n",
            "error after gradient descent: 7.448751302436157e-19\n",
            "b0: 20.689655172413794, b1 44.44444444444444\n",
            "error after gradient descent: 2.0673180265119897e-19\n"
          ]
        }
      ],
      "source": [
        "for bo, b1 in zip(arr1, arr2):\n",
        "    print(f'b0: {bo}, b1 {b1}')\n",
        "    hyp = Model()\n",
        "    hyp.bo = bo\n",
        "    hyp.b1 = b1\n",
        "    steps, errors = hyp.fit(x, y)\n",
        "    J = hyp.error(x, y)\n",
        "    print(\"error after gradient descent:\", J)"
      ]
    },
    {
      "cell_type": "markdown",
      "metadata": {
        "id": "FqgNNeIA_c-_"
      },
      "source": [
        "# 2. Проверьте работу модели с другими значениями скорости обучения. Найдите значение, при котором градиентный спуск расходится."
      ]
    },
    {
      "cell_type": "code",
      "execution_count": null,
      "metadata": {
        "colab": {
          "base_uri": "https://localhost:8080/"
        },
        "id": "hVa85g6h-y6k",
        "outputId": "1561c2b9-a25a-495a-eed8-185e91e3d9f1"
      },
      "outputs": [
        {
          "name": "stdout",
          "output_type": "stream",
          "text": [
            "alpha: 0.0\n",
            "error after gradient descent: 2937.6446095153397\n",
            "alpha: 0.034482758620689655\n",
            "error after gradient descent: 1.634229889235268e-26\n",
            "alpha: 0.06896551724137931\n",
            "error after gradient descent: 4.297497274895137e-27\n",
            "alpha: 0.10344827586206896\n",
            "error after gradient descent: 1.658624426653096e-27\n",
            "alpha: 0.13793103448275862\n",
            "error after gradient descent: 9.067167244610309e-28\n",
            "alpha: 0.1724137931034483\n",
            "error after gradient descent: 3.7794819007204433e-28\n",
            "alpha: 0.20689655172413793\n",
            "error after gradient descent: 3.7794819007204442e-28\n",
            "alpha: 0.24137931034482757\n",
            "error after gradient descent: 7.948266658167459e-29\n",
            "alpha: 0.27586206896551724\n",
            "error after gradient descent: 7.948266658167459e-29\n",
            "alpha: 0.3103448275862069\n",
            "error after gradient descent: 7.948266658167459e-29\n",
            "alpha: 0.3448275862068966\n",
            "error after gradient descent: 7.948266658167459e-29\n",
            "alpha: 0.3793103448275862\n",
            "error after gradient descent: 7.885157785749778e-29\n",
            "alpha: 0.41379310344827586\n",
            "error after gradient descent: 7.948266658167459e-29\n",
            "alpha: 0.4482758620689655\n",
            "error after gradient descent: 7.948266658167459e-29\n",
            "alpha: 0.48275862068965514\n",
            "error after gradient descent: 7.948266658167459e-29\n",
            "alpha: 0.5172413793103449\n",
            "error after gradient descent: 7.948266658167459e-29\n",
            "alpha: 0.5517241379310345\n",
            "error after gradient descent: 3.094306900729419e-29\n",
            "alpha: 0.5862068965517241\n",
            "error after gradient descent: 2.5879568071906823e-29\n",
            "alpha: 0.6206896551724138\n",
            "error after gradient descent: 2.5874637691249185e-29\n",
            "alpha: 0.6551724137931034\n",
            "error after gradient descent: 2.5874637691249185e-29\n",
            "alpha: 0.6896551724137931\n",
            "error after gradient descent: 2.532243505759448e-29\n",
            "alpha: 0.7241379310344828\n",
            "error after gradient descent: 2.5879568071906823e-29\n",
            "alpha: 0.7586206896551724\n",
            "error after gradient descent: 2.532243505759448e-29\n",
            "alpha: 0.7931034482758621\n",
            "error after gradient descent: 2.5879568071906823e-29\n",
            "alpha: 0.8275862068965517\n",
            "error after gradient descent: 2.5879568071906823e-29\n",
            "alpha: 0.8620689655172413\n",
            "error after gradient descent: 3.0967720910582346e-29\n",
            "alpha: 0.896551724137931\n",
            "error after gradient descent: 2.532243505759448e-29\n",
            "alpha: 0.9310344827586207\n",
            "error after gradient descent: 3.0967720910582346e-29\n",
            "alpha: 0.9655172413793103\n",
            "error after gradient descent: 2.532243505759448e-29\n",
            "alpha: 1.0\n",
            "error after gradient descent: 3.0967720910582346e-29\n"
          ]
        }
      ],
      "source": [
        "for alpha in (np.linspace(0, 1, 30)):\n",
        "    print(f'alpha: {alpha}')\n",
        "    hyp = Model()\n",
        "    steps, errors = hyp.fit(x, y, alpha=alpha)\n",
        "    J = hyp.error(x, y)\n",
        "    print(\"error after gradient descent:\", J)"
      ]
    },
    {
      "cell_type": "markdown",
      "metadata": {
        "id": "hOIreyK2G8at"
      },
      "source": [
        "# 3. Модифицируйте код модели таким образом, чтобы он корректно работал как с Series, так и с DataFrame. При этом, конечно, датафрейм не должен содержать \"лишних\" столбцов."
      ]
    },
    {
      "cell_type": "code",
      "execution_count": null,
      "metadata": {
        "id": "-1cfJeZ9G1K9"
      },
      "outputs": [],
      "source": [
        "class Model(object):\n",
        "    \"\"\"Модель парной линейной регрессии\"\"\"\n",
        "    def __init__(self):\n",
        "        self.b0 = 0\n",
        "        self.b1 = 0\n",
        "    def predict(self, X):\n",
        "        return self.b0 + self.b1 * X\n",
        "    def error(self, X, Y):\n",
        "        return sum(((self.predict(X) - Y)**2) / (2 * len(X)))\n",
        "    def fit(self, inp, alpha=0.001, accuracy=0.01, max_steps=3 * 5000):\n",
        "        if type(inp) == pd.DataFrame:\n",
        "            X = inp.iloc[0:, 0]\n",
        "            Y = inp.iloc[0:, 1]\n",
        "        else:\n",
        "            X = np.array(inp[0])\n",
        "            Y = np.array(inp[1])\n",
        "        steps, errors = [], []\n",
        "        step = 0\n",
        "        for _ in range(max_steps):\n",
        "            dJ0 = sum(self.predict(X) - Y) /len(X)\n",
        "            dJ1 = sum((self.predict(X) - Y) * X) /len(X)\n",
        "            self.b0 -= alpha * dJ0\n",
        "            self.b1 -= alpha * dJ1\n",
        "            new_err = hyp.error(X, Y)\n",
        "            step += 1\n",
        "            steps.append(step)\n",
        "            errors.append(new_err)\n",
        "        return steps, errors"
      ]
    },
    {
      "cell_type": "code",
      "execution_count": null,
      "metadata": {
        "colab": {
          "base_uri": "https://localhost:8080/"
        },
        "id": "lVlU_Qm5bCZE",
        "outputId": "058a3a31-0f0d-42d6-a419-858a954a2cfc"
      },
      "outputs": [
        {
          "data": {
            "text/plain": [
              "2.3101647145272472e-10"
            ]
          },
          "execution_count": 15,
          "metadata": {},
          "output_type": "execute_result"
        }
      ],
      "source": [
        "hyp = Model()\n",
        "steps, errors = hyp.fit((x, y))\n",
        "hyp.error(x, y)"
      ]
    },
    {
      "cell_type": "code",
      "execution_count": null,
      "metadata": {
        "colab": {
          "base_uri": "https://localhost:8080/",
          "height": 676
        },
        "id": "zNk78Xa-b_JQ",
        "outputId": "d8bd2150-57fe-4d35-83b7-db9288f1d56d"
      },
      "outputs": [
        {
          "data": {
            "text/html": [
              "<div>\n",
              "<style scoped>\n",
              "    .dataframe tbody tr th:only-of-type {\n",
              "        vertical-align: middle;\n",
              "    }\n",
              "\n",
              "    .dataframe tbody tr th {\n",
              "        vertical-align: top;\n",
              "    }\n",
              "\n",
              "    .dataframe thead th {\n",
              "        text-align: right;\n",
              "    }\n",
              "</style>\n",
              "<table border=\"1\" class=\"dataframe\">\n",
              "  <thead>\n",
              "    <tr style=\"text-align: right;\">\n",
              "      <th></th>\n",
              "      <th>x</th>\n",
              "      <th>y</th>\n",
              "    </tr>\n",
              "  </thead>\n",
              "  <tbody>\n",
              "    <tr>\n",
              "      <th>0</th>\n",
              "      <td>1.462108</td>\n",
              "      <td>101.159902</td>\n",
              "    </tr>\n",
              "    <tr>\n",
              "      <th>1</th>\n",
              "      <td>1.133769</td>\n",
              "      <td>78.442913</td>\n",
              "    </tr>\n",
              "    <tr>\n",
              "      <th>2</th>\n",
              "      <td>-2.301539</td>\n",
              "      <td>-159.238195</td>\n",
              "    </tr>\n",
              "    <tr>\n",
              "      <th>3</th>\n",
              "      <td>1.744812</td>\n",
              "      <td>120.719533</td>\n",
              "    </tr>\n",
              "    <tr>\n",
              "      <th>4</th>\n",
              "      <td>0.042214</td>\n",
              "      <td>2.920673</td>\n",
              "    </tr>\n",
              "    <tr>\n",
              "      <th>5</th>\n",
              "      <td>-0.611756</td>\n",
              "      <td>-42.326026</td>\n",
              "    </tr>\n",
              "    <tr>\n",
              "      <th>6</th>\n",
              "      <td>0.319039</td>\n",
              "      <td>22.073585</td>\n",
              "    </tr>\n",
              "    <tr>\n",
              "      <th>7</th>\n",
              "      <td>-0.761207</td>\n",
              "      <td>-52.666163</td>\n",
              "    </tr>\n",
              "    <tr>\n",
              "      <th>8</th>\n",
              "      <td>0.582815</td>\n",
              "      <td>40.323651</td>\n",
              "    </tr>\n",
              "    <tr>\n",
              "      <th>9</th>\n",
              "      <td>-1.099891</td>\n",
              "      <td>-76.098960</td>\n",
              "    </tr>\n",
              "    <tr>\n",
              "      <th>10</th>\n",
              "      <td>0.865408</td>\n",
              "      <td>59.875573</td>\n",
              "    </tr>\n",
              "    <tr>\n",
              "      <th>11</th>\n",
              "      <td>1.624345</td>\n",
              "      <td>112.384738</td>\n",
              "    </tr>\n",
              "    <tr>\n",
              "      <th>12</th>\n",
              "      <td>-0.528172</td>\n",
              "      <td>-36.542995</td>\n",
              "    </tr>\n",
              "    <tr>\n",
              "      <th>13</th>\n",
              "      <td>-0.249370</td>\n",
              "      <td>-17.253366</td>\n",
              "    </tr>\n",
              "    <tr>\n",
              "      <th>14</th>\n",
              "      <td>-1.072969</td>\n",
              "      <td>-74.236243</td>\n",
              "    </tr>\n",
              "    <tr>\n",
              "      <th>15</th>\n",
              "      <td>-0.384054</td>\n",
              "      <td>-26.571842</td>\n",
              "    </tr>\n",
              "    <tr>\n",
              "      <th>16</th>\n",
              "      <td>-0.172428</td>\n",
              "      <td>-11.929913</td>\n",
              "    </tr>\n",
              "    <tr>\n",
              "      <th>17</th>\n",
              "      <td>-0.322417</td>\n",
              "      <td>-22.307308</td>\n",
              "    </tr>\n",
              "    <tr>\n",
              "      <th>18</th>\n",
              "      <td>-2.060141</td>\n",
              "      <td>-142.536421</td>\n",
              "    </tr>\n",
              "    <tr>\n",
              "      <th>19</th>\n",
              "      <td>-0.877858</td>\n",
              "      <td>-60.737015</td>\n",
              "    </tr>\n",
              "  </tbody>\n",
              "</table>\n",
              "</div>"
            ],
            "text/plain": [
              "           x           y\n",
              "0   1.462108  101.159902\n",
              "1   1.133769   78.442913\n",
              "2  -2.301539 -159.238195\n",
              "3   1.744812  120.719533\n",
              "4   0.042214    2.920673\n",
              "5  -0.611756  -42.326026\n",
              "6   0.319039   22.073585\n",
              "7  -0.761207  -52.666163\n",
              "8   0.582815   40.323651\n",
              "9  -1.099891  -76.098960\n",
              "10  0.865408   59.875573\n",
              "11  1.624345  112.384738\n",
              "12 -0.528172  -36.542995\n",
              "13 -0.249370  -17.253366\n",
              "14 -1.072969  -74.236243\n",
              "15 -0.384054  -26.571842\n",
              "16 -0.172428  -11.929913\n",
              "17 -0.322417  -22.307308\n",
              "18 -2.060141 -142.536421\n",
              "19 -0.877858  -60.737015"
            ]
          },
          "execution_count": 16,
          "metadata": {},
          "output_type": "execute_result"
        }
      ],
      "source": [
        "df = pd.DataFrame({'x': x, 'y': y})\n",
        "df"
      ]
    },
    {
      "cell_type": "code",
      "execution_count": null,
      "metadata": {
        "colab": {
          "base_uri": "https://localhost:8080/"
        },
        "id": "MaBGTagjcGR1",
        "outputId": "9bdf1306-2fd8-4257-da88-bf1cd4179f18"
      },
      "outputs": [
        {
          "data": {
            "text/plain": [
              "2.3101647145272472e-10"
            ]
          },
          "execution_count": 17,
          "metadata": {},
          "output_type": "execute_result"
        }
      ],
      "source": [
        "hyp = Model()\n",
        "steps, errors = hyp.fit(df)\n",
        "hyp.error(x, y)"
      ]
    },
    {
      "cell_type": "code",
      "execution_count": null,
      "metadata": {
        "colab": {
          "base_uri": "https://localhost:8080/"
        },
        "id": "i9qrjUYFcZo5",
        "outputId": "a7fc6c77-5a83-4c79-830b-62b174c00bdd"
      },
      "outputs": [
        {
          "data": {
            "text/plain": [
              "2.3101647145272472e-10"
            ]
          },
          "execution_count": 18,
          "metadata": {},
          "output_type": "execute_result"
        }
      ],
      "source": [
        "hyp = Model()\n",
        "steps, errors = hyp.fit((df['x'], df['y']))\n",
        "hyp.error(x, y)"
      ]
    },
    {
      "cell_type": "markdown",
      "metadata": {
        "id": "mpu0iihfe05D"
      },
      "source": [
        "# 4.Модифицируйте алгоритм градиентного спука таким образом, чтобы он останавливаля, если ошибка перестает снижаться. Для этого сравнивайте, на сколько понизилась ошибка на каждом шаге и если это снижение меньше некоторой заранее заданной очень маленькой величины - выходите из цикла. Эту величину можно взять одну миллионную, например."
      ]
    },
    {
      "cell_type": "code",
      "execution_count": null,
      "metadata": {
        "id": "-b9qsYOybYiC"
      },
      "outputs": [],
      "source": [
        "class Model(object):\n",
        "    \"\"\"Модель парной линейной регрессии\"\"\"\n",
        "    def __init__(self):\n",
        "        self.b0 = 0\n",
        "        self.b1 = 0\n",
        "        self.eps = 1e-6\n",
        "    def predict(self, X):\n",
        "        return self.b0 + self.b1 * X\n",
        "    def error(self, X, Y):\n",
        "        return sum(((self.predict(X) - Y)**2) / (2 * len(X)))\n",
        "    def fit(self, inp, alpha=0.001, accuracy=0.01, max_steps=3 * 5000):\n",
        "        if type(inp) == pd.DataFrame:\n",
        "            X = inp.iloc[0:, 0]\n",
        "            Y = inp.iloc[0:, 1]\n",
        "        else:\n",
        "            X = np.array(inp[0])\n",
        "            Y = np.array(inp[1])\n",
        "        steps, errors = [], []\n",
        "        step = 0\n",
        "        for _ in range(max_steps):\n",
        "            dJ0 = sum(self.predict(X) - Y) /len(X)\n",
        "            dJ1 = sum((self.predict(X) - Y) * X) /len(X)\n",
        "            self.b0 -= alpha * dJ0\n",
        "            self.b1 -= alpha * dJ1\n",
        "            new_err = hyp.error(X, Y)\n",
        "            step += 1\n",
        "            steps.append(step)\n",
        "            errors.append(new_err)\n",
        "            if step > 1 and abs(errors[step - 1] - errors[step - 2]) < self.eps:\n",
        "                print('Модель перестала обучаться')\n",
        "                break\n",
        "        return steps, errors"
      ]
    },
    {
      "cell_type": "code",
      "execution_count": null,
      "metadata": {
        "colab": {
          "base_uri": "https://localhost:8080/"
        },
        "id": "pUByApeTfgu9",
        "outputId": "878920d2-9b1a-43eb-9763-72fc090709e0"
      },
      "outputs": [
        {
          "name": "stdout",
          "output_type": "stream",
          "text": [
            "Модель перестала обучаться\n"
          ]
        },
        {
          "data": {
            "text/plain": [
              "0.0005244076717215663"
            ]
          },
          "execution_count": 20,
          "metadata": {},
          "output_type": "execute_result"
        }
      ],
      "source": [
        "hyp = Model()\n",
        "steps, errors = hyp.fit(df)\n",
        "hyp.error(x, y)"
      ]
    },
    {
      "cell_type": "markdown",
      "metadata": {
        "id": "uS3Hyy_Tf2dQ"
      },
      "source": [
        "# 5. Убедитесь, что алгоритм градиентного спуска завершается всегда - либо если ошибка перестает существенно меняться, либо при достижении максимального количества шагов."
      ]
    },
    {
      "cell_type": "code",
      "execution_count": null,
      "metadata": {
        "id": "n73elrIuf7tP"
      },
      "outputs": [],
      "source": [
        "class Model(object):\n",
        "    \"\"\"Модель парной линейной регрессии\"\"\"\n",
        "    def __init__(self):\n",
        "        self.b0 = 0\n",
        "        self.b1 = 0\n",
        "        self.eps = 1e-6\n",
        "    def predict(self, X):\n",
        "        return self.b0 + self.b1 * X\n",
        "    def error(self, X, Y):\n",
        "        return sum(((self.predict(X) - Y)**2) / (2 * len(X)))\n",
        "    def fit(self, inp, alpha=0.001, accuracy=0.01, max_steps=3 * 5000):\n",
        "        if type(inp) == pd.DataFrame:\n",
        "            X = inp.iloc[0:, 0]\n",
        "            Y = inp.iloc[0:, 1]\n",
        "        else:\n",
        "            X = np.array(inp[0])\n",
        "            Y = np.array(inp[1])\n",
        "        steps, errors = [], []\n",
        "        step = 0\n",
        "        for _ in range(max_steps):\n",
        "            dJ0 = sum(self.predict(X) - Y) /len(X)\n",
        "            dJ1 = sum((self.predict(X) - Y) * X) /len(X)\n",
        "            self.b0 -= alpha * dJ0\n",
        "            self.b1 -= alpha * dJ1\n",
        "            new_err = hyp.error(X, Y)\n",
        "            step += 1\n",
        "            steps.append(step)\n",
        "            errors.append(new_err)\n",
        "            if step > 1 and abs(errors[step - 1] - errors[step - 2]) < self.eps:\n",
        "                print('Модель перестала обучаться')\n",
        "                break\n",
        "        else:\n",
        "            print('Модель обучилась успешно. Количество шагов закончилось.')\n",
        "\n",
        "        return steps, errors"
      ]
    },
    {
      "cell_type": "code",
      "execution_count": null,
      "metadata": {
        "colab": {
          "base_uri": "https://localhost:8080/"
        },
        "id": "x7uhvfYUhlgp",
        "outputId": "5a8293d3-ba38-4be1-80a9-6573dce719d9"
      },
      "outputs": [
        {
          "name": "stdout",
          "output_type": "stream",
          "text": [
            "Модель перестала обучаться\n"
          ]
        },
        {
          "data": {
            "text/plain": [
              "0.47536984815996747"
            ]
          },
          "execution_count": 22,
          "metadata": {},
          "output_type": "execute_result"
        }
      ],
      "source": [
        "hyp = Model()\n",
        "hyp.eps = 1e-3\n",
        "steps, errors = hyp.fit(df)\n",
        "hyp.error(x, y)"
      ]
    },
    {
      "cell_type": "code",
      "execution_count": null,
      "metadata": {
        "colab": {
          "base_uri": "https://localhost:8080/"
        },
        "id": "lcHK_K-yhi0j",
        "outputId": "5a5719f2-f78e-40a5-9c6a-3aac4e4e5d9f"
      },
      "outputs": [
        {
          "name": "stdout",
          "output_type": "stream",
          "text": [
            "Модель обучилась успешно. Количество шагов закончилось.\n"
          ]
        },
        {
          "data": {
            "text/plain": [
              "2.776975306057215e-06"
            ]
          },
          "execution_count": 23,
          "metadata": {},
          "output_type": "execute_result"
        }
      ],
      "source": [
        "hyp = Model()\n",
        "hyp.eps = 1e-9\n",
        "steps, errors = hyp.fit(df, max_steps=10_000)\n",
        "hyp.error(x, y)"
      ]
    },
    {
      "cell_type": "markdown",
      "metadata": {
        "id": "NHBPll9lf8Vg"
      },
      "source": [
        "# 6. Реализуйте механизм адаптивной скорости обучения. Чтобы не задавать вручную параметр alpha можно отслеживать, увеличивается ли ошибка после первого шага градиентного спуска. В начале задаем скорость обучения близкой к 1. Если ошибка после одного шага увеличивается - скорость обучения надо уменьшить (например, в 2 раза). Если не увеличивается - скорость обучения можно не трогать. Еще подумайте, как после уменьшения скорости перезапускать градиентный спуск заново."
      ]
    },
    {
      "cell_type": "code",
      "execution_count": null,
      "metadata": {
        "id": "yJR0tK5Xfiy8"
      },
      "outputs": [],
      "source": [
        "class Model(object):\n",
        "    \"\"\"Модель парной линейной регрессии\"\"\"\n",
        "    def __init__(self):\n",
        "        self.b0 = 0\n",
        "        self.b1 = 0\n",
        "        self.eps = 1e-6\n",
        "    def predict(self, X):\n",
        "        return self.b0 + self.b1 * X\n",
        "    def error(self, X, Y):\n",
        "        return sum(((self.predict(X) - Y)**2) / (2 * len(X)))\n",
        "    def fit(self, inp, alpha=1, accuracy=0.01, max_steps=3 * 5000):\n",
        "        if type(inp) == pd.DataFrame:\n",
        "            X = inp.iloc[0:, 0]\n",
        "            Y = inp.iloc[0:, 1]\n",
        "        else:\n",
        "            X = np.array(inp[0])\n",
        "            Y = np.array(inp[1])\n",
        "        steps, errors = [], []\n",
        "        step = 0\n",
        "        for _ in range(max_steps):\n",
        "            dJ0 = sum(self.predict(X) - Y) /len(X)\n",
        "            dJ1 = sum((self.predict(X) - Y) * X) /len(X)\n",
        "            self.b0 -= alpha * dJ0\n",
        "            self.b1 -= alpha * dJ1\n",
        "            new_err = hyp.error(X, Y)\n",
        "            step += 1\n",
        "            steps.append(step)\n",
        "            errors.append(new_err)\n",
        "            if step > 1:\n",
        "                if abs(errors[step - 1] - errors[step - 2]) < self.eps:\n",
        "                    print('Модель перестала обучаться')\n",
        "                    break\n",
        "                elif errors[step - 1] - errors[step - 2] > 0:\n",
        "                    alpha = alpha / 2\n",
        "        else:\n",
        "            print('Модель обучилась успешно. Количество шагов закончилось.')\n",
        "        print(f'final alpha: {alpha}')\n",
        "        return steps, errors"
      ]
    },
    {
      "cell_type": "code",
      "execution_count": null,
      "metadata": {
        "colab": {
          "base_uri": "https://localhost:8080/"
        },
        "id": "y3DGM2hJimIq",
        "outputId": "92cab357-322e-4532-cb82-5b4850eb2a0d"
      },
      "outputs": [
        {
          "name": "stdout",
          "output_type": "stream",
          "text": [
            "Модель перестала обучаться\n",
            "final alpha: 1.5\n"
          ]
        },
        {
          "data": {
            "text/plain": [
              "6.350669614043344e-10"
            ]
          },
          "execution_count": 25,
          "metadata": {},
          "output_type": "execute_result"
        }
      ],
      "source": [
        "hyp = Model()\n",
        "hyp.eps = 1e-10\n",
        "steps, errors = hyp.fit(df, alpha=3)\n",
        "hyp.error(x, y)"
      ]
    },
    {
      "cell_type": "code",
      "execution_count": null,
      "metadata": {
        "colab": {
          "base_uri": "https://localhost:8080/"
        },
        "id": "emzmG0iVjOtF",
        "outputId": "c46ee671-e762-4fac-d41e-e8c6638d8c6d"
      },
      "outputs": [
        {
          "name": "stdout",
          "output_type": "stream",
          "text": [
            "Модель перестала обучаться\n",
            "final alpha: 1\n"
          ]
        },
        {
          "data": {
            "text/plain": [
              "2.028157137135308e-12"
            ]
          },
          "execution_count": 26,
          "metadata": {},
          "output_type": "execute_result"
        }
      ],
      "source": [
        "hyp = Model()\n",
        "hyp.eps = 1e-10\n",
        "steps, errors = hyp.fit(df, alpha=1)\n",
        "hyp.error(x, y)"
      ]
    },
    {
      "cell_type": "markdown",
      "metadata": {
        "id": "3FqAq2khgOPM"
      },
      "source": [
        "# 7.Добавьте к классу модели метод рисования графиков. Сделайте так, чтобы он был независим от масштаба переданных данных."
      ]
    },
    {
      "cell_type": "code",
      "execution_count": null,
      "metadata": {
        "id": "zZhdtEohgPvP"
      },
      "outputs": [],
      "source": [
        "class Model(object):\n",
        "    \"\"\"Модель парной линейной регрессии\"\"\"\n",
        "    def __init__(self):\n",
        "        self.b0 = 0\n",
        "        self.b1 = 0\n",
        "        self.eps = 1e-6\n",
        "    def predict(self, X):\n",
        "        return self.b0 + self.b1 * X\n",
        "    def error(self, X, Y):\n",
        "        return sum(((self.predict(X) - Y)**2) / (2 * len(X)))\n",
        "    def fit(self, inp, alpha=1, accuracy=0.01, max_steps=3 * 5000):\n",
        "        if type(inp) == pd.DataFrame:\n",
        "            X = inp.iloc[0:, 0]\n",
        "            Y = inp.iloc[0:, 1]\n",
        "        else:\n",
        "            X = np.array(inp[0])\n",
        "            Y = np.array(inp[1])\n",
        "        steps, errors = [], []\n",
        "        step = 0\n",
        "        for _ in range(max_steps):\n",
        "            dJ0 = sum(self.predict(X) - Y) /len(X)\n",
        "            dJ1 = sum((self.predict(X) - Y) * X) /len(X)\n",
        "            self.b0 -= alpha * dJ0\n",
        "            self.b1 -= alpha * dJ1\n",
        "            new_err = hyp.error(X, Y)\n",
        "            step += 1\n",
        "            steps.append(step)\n",
        "            errors.append(new_err)\n",
        "            if step > 1:\n",
        "                if abs(errors[step - 1] - errors[step - 2]) < self.eps:\n",
        "                    print('Модель перестала обучаться')\n",
        "                    break\n",
        "                elif errors[step - 1] - errors[step - 2] > 0:\n",
        "                    alpha = alpha / 2\n",
        "        else:\n",
        "            print('Модель обучилась успешно. Количество шагов закончилось.')\n",
        "        print(f'final alpha: {alpha}')\n",
        "\n",
        "        return steps, errors\n",
        "\n",
        "    def model_plot(self, X=None):\n",
        "        if X is None:\n",
        "            X0 = np.linspace(-3, 2, 100)\n",
        "        else:\n",
        "            X0 = X\n",
        "        Y0 = hyp.predict(X0)\n",
        "        plt.figure()\n",
        "        plt.scatter(x, y)\n",
        "        plt.plot(X0, Y0, 'r')\n",
        "        plt.show()\n",
        "\n",
        "\n",
        "    def plot_error(self, steps, errors):\n",
        "        plt.figure()\n",
        "        plt.plot(steps, errors, 'g')\n",
        "        plt.show()\n"
      ]
    },
    {
      "cell_type": "code",
      "execution_count": null,
      "metadata": {
        "colab": {
          "base_uri": "https://localhost:8080/"
        },
        "id": "7hpC16P5kDXo",
        "outputId": "e294aec4-af14-4421-c96e-6d1aa58a69d4"
      },
      "outputs": [
        {
          "name": "stdout",
          "output_type": "stream",
          "text": [
            "Модель перестала обучаться\n",
            "final alpha: 1\n"
          ]
        },
        {
          "data": {
            "text/plain": [
              "4.1772608368551725e-08"
            ]
          },
          "execution_count": 28,
          "metadata": {},
          "output_type": "execute_result"
        }
      ],
      "source": [
        "hyp = Model()\n",
        "steps, errors = hyp.fit(df)\n",
        "hyp.error(x, y)"
      ]
    },
    {
      "cell_type": "code",
      "execution_count": null,
      "metadata": {
        "colab": {
          "base_uri": "https://localhost:8080/",
          "height": 430
        },
        "id": "y8qoqNhFkHNw",
        "outputId": "48573917-ddab-4865-dd97-0f2e6c5f3fc1"
      },
      "outputs": [
        {
          "data": {
            "image/png": "[encoded data removed]",
            "text/plain": [
              "<Figure size 640x480 with 1 Axes>"
            ]
          },
          "metadata": {},
          "output_type": "display_data"
        }
      ],
      "source": [
        "hyp.model_plot()"
      ]
    },
    {
      "cell_type": "code",
      "execution_count": null,
      "metadata": {
        "colab": {
          "base_uri": "https://localhost:8080/",
          "height": 430
        },
        "id": "bSoFCN7Uxx2X",
        "outputId": "ffa859d4-75bc-437b-bcb7-b525cce1f673"
      },
      "outputs": [
        {
          "data": {
            "image/png": "[encoded data removed]",
            "text/plain": [
              "<Figure size 640x480 with 1 Axes>"
            ]
          },
          "metadata": {},
          "output_type": "display_data"
        }
      ],
      "source": [
        "hyp.model_plot(df['x'])"
      ]
    },
    {
      "cell_type": "code",
      "execution_count": null,
      "metadata": {
        "colab": {
          "base_uri": "https://localhost:8080/",
          "height": 430
        },
        "id": "uH1tHkaukKgR",
        "outputId": "6e128b17-7819-404c-d7be-104d81b06c15"
      },
      "outputs": [
        {
          "data": {
            "image/png": "[encoded data removed]",
            "text/plain": [
              "<Figure size 640x480 with 1 Axes>"
            ]
          },
          "metadata": {},
          "output_type": "display_data"
        }
      ],
      "source": [
        "hyp.plot_error(steps, errors)"
      ]
    }
  ],
  "metadata": {
    "colab": {
      "provenance": []
    },
    "kernelspec": {
      "display_name": "Python 3 (ipykernel)",
      "language": "python",
      "name": "python3"
    },
    "language_info": {
      "codemirror_mode": {
        "name": "ipython",
        "version": 3
      },
      "file_extension": ".py",
      "mimetype": "text/x-python",
      "name": "python",
      "nbconvert_exporter": "python",
      "pygments_lexer": "ipython3",
      "version": "3.9.13"
    }
  },
  "nbformat": 4,
  "nbformat_minor": 0
}
